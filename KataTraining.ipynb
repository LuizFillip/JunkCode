{
 "cells": [
  {
   "cell_type": "code",
   "execution_count": 19,
   "id": "05ddc7fb",
   "metadata": {},
   "outputs": [
    {
     "name": "stdout",
     "output_type": "stream",
     "text": [
      "0\n",
      "51\n",
      "654321\n",
      "54421\n",
      "987654321\n"
     ]
    }
   ],
   "source": [
    "\n",
    "\n",
    "def descending_order(num):\n",
    "    \n",
    "    \"\"\"\n",
    "    Function can take non-negative integer as an argument\n",
    "    ans return it with its digits in descending order. \n",
    "    Essentially, rearrange the digits to create the \n",
    "    hishest possible number.\n",
    "    \n",
    "    \"\"\"\n",
    "\n",
    "    return int(\"\".join(sorted(str(num), reverse = True)))\n",
    "\n",
    "for num in [0, 15, 145263, 42145, 123456789]:\n",
    "    print(descending_order(num))"
   ]
  },
  {
   "cell_type": "code",
   "execution_count": 20,
   "id": "7cd93212",
   "metadata": {},
   "outputs": [
    {
     "ename": "NameError",
     "evalue": "name 'MORSE_CODE' is not defined",
     "output_type": "error",
     "traceback": [
      "\u001b[1;31m---------------------------------------------------------------------------\u001b[0m",
      "\u001b[1;31mNameError\u001b[0m                                 Traceback (most recent call last)",
      "\u001b[1;32m~\\AppData\\Local\\Temp/ipykernel_19136/2409349946.py\u001b[0m in \u001b[0;36m<module>\u001b[1;34m\u001b[0m\n\u001b[1;32m----> 1\u001b[1;33m \u001b[0mMORSE_CODE\u001b[0m\u001b[1;33m[\u001b[0m\u001b[1;34m'.--'\u001b[0m\u001b[1;33m]\u001b[0m\u001b[1;33m\u001b[0m\u001b[1;33m\u001b[0m\u001b[0m\n\u001b[0m",
      "\u001b[1;31mNameError\u001b[0m: name 'MORSE_CODE' is not defined"
     ]
    }
   ],
   "source": [
    "MORSE_CODE['.--']"
   ]
  }
 ],
 "metadata": {
  "kernelspec": {
   "display_name": "Python 3 (ipykernel)",
   "language": "python",
   "name": "python3"
  },
  "language_info": {
   "codemirror_mode": {
    "name": "ipython",
    "version": 3
   },
   "file_extension": ".py",
   "mimetype": "text/x-python",
   "name": "python",
   "nbconvert_exporter": "python",
   "pygments_lexer": "ipython3",
   "version": "3.9.7"
  }
 },
 "nbformat": 4,
 "nbformat_minor": 5
}
